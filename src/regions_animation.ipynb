{
 "cells": [
  {
   "cell_type": "code",
   "execution_count": null,
   "metadata": {},
   "outputs": [],
   "source": [
    "%matplotlib notebook\n",
    "#  Author:- Anurag Gupta # email:- 999.anuraggupta@gmail.com\n",
    "import pandas as pd\n",
    "import matplotlib.pyplot as plt\n",
    "import matplotlib.animation as animation\n",
    "from time import sleep\n",
    "\n",
    "#### ---- Step 1:- Download data\n",
    "URL_DATASET = r'https://raw.githubusercontent.com/datasets/covid-19/master/data/countries-aggregated.csv'\n",
    "df = pd.read_csv(URL_DATASET, usecols = ['Date', 'Country', 'Confirmed'])\n",
    "# print(df.head(3)) # uncomment this to see output\n",
    "\n",
    "#### ---- Step 2:- Create list of all dates\n",
    "list_dates = df['Date'].unique()\n",
    "# print(list_dates) # Uncomment to see the dates\n",
    "\n",
    "#### --- Step 3:- Pick 5 countries. Also create ax object\n",
    "fig, ax = plt.subplots(figsize=(15, 8))\n",
    "# We will animate for these 5 countries only\n",
    "list_countries = ['India', 'China', 'US', 'Italy', 'Spain']\n",
    "# colors for the 5 horizontal bars\n",
    "list_colors = ['black', 'red', 'green', 'blue', 'yellow']\n",
    "\n",
    "### --- Step 4:- Write the call back function\n",
    "# plot_bar() is the call back function used in FuncAnimation class object\n",
    "def plot_bar(some_date):\n",
    "    df2 = df[df['Date'].eq(some_date)]\n",
    "    ax.clear()\n",
    "    # Only take Confirmed column in descending order\n",
    "    df3 = df2.sort_values(by = 'Confirmed', ascending = False)\n",
    "    # Select the top 5 Confirmed countries\n",
    "    df4 = df3[df3['Country'].isin(list_countries)]\n",
    "    # print(df4)  # Uncomment to see that dat is only for 5 countries\n",
    "    sleep(0.2)  # To slow down the animation\n",
    "    # ax.barh() makes a horizontal bar plot.\n",
    "    return ax.barh(df4['Country'], df4['Confirmed'], color= list_colors)\n",
    "\n",
    "\n",
    "###----Step 5:- Create FuncAnimation object--------- \n",
    "my_anim = animation.FuncAnimation(fig = fig, func = plot_bar, \n",
    "                    frames= list_dates, blit=True, \n",
    "                    interval=20)\n",
    "\n",
    "### --- Step 6:- Save the animation to an mp4\n",
    "# Place where to save the mp4. Give your file path instead\n",
    "path_mp4 = r'C:\\Python-articles\\population_covid2.mp4'  \n",
    "# my_anim.save(path_mp4, fps=30, extra_args=['-vcodec', 'libx264'])\n",
    "my_anim.save(filename = path_mp4, writer = 'ffmpeg', \n",
    "             fps=30, \n",
    "             extra_args= ['-vcodec', 'libx264', '-pix_fmt', 'yuv420p'])\n",
    "plt.show()"
   ]
  }
 ],
 "metadata": {
  "kernelspec": {
   "display_name": "Python 3",
   "language": "python",
   "name": "python3"
  },
  "language_info": {
   "codemirror_mode": {
    "name": "ipython",
    "version": 3
   },
   "file_extension": ".py",
   "mimetype": "text/x-python",
   "name": "python",
   "nbconvert_exporter": "python",
   "pygments_lexer": "ipython3",
   "version": "3.8.2"
  }
 },
 "nbformat": 4,
 "nbformat_minor": 4
}
